{
 "cells": [
  {
   "cell_type": "code",
   "execution_count": 1,
   "id": "6570c160",
   "metadata": {},
   "outputs": [],
   "source": [
    "import pandas as pd"
   ]
  },
  {
   "cell_type": "code",
   "execution_count": null,
   "id": "7d835893",
   "metadata": {},
   "outputs": [],
   "source": [
    "#Here is a list of indoor monitors, for your edification\n",
    "site_info = pd.read_csv('../GIS/purpleair/houmetro-pa-sensors-atleast_1yr.csv')\n",
    "indoor_sensor_list = site_info[site_info['location_type'] == 1]['sensor_index'].tolist()\n",
    "indoor_sensor_list"
   ]
  },
  {
   "cell_type": "code",
   "execution_count": 2,
   "id": "46bf8161",
   "metadata": {},
   "outputs": [],
   "source": [
    "#testing tx-wide EPA data\n",
    "tx_epa_23 = pd.read_csv('../data/source/EPA/2023_tx_epa_ad_viz_plotval_data.csv')"
   ]
  },
  {
   "cell_type": "code",
   "execution_count": 9,
   "id": "37f95004",
   "metadata": {},
   "outputs": [],
   "source": [
    "epa_23_by_county = tx_epa_23.groupby('County',dropna=False).agg(min_date=('Date','min'),\n",
    "                                                                max_date=('Date','max'),\n",
    "                                                                avg_epa_reading=('Daily Mean PM2.5 Concentration','mean')\n",
    "                                                                ).reset_index()\n",
    "\n",
    "epa_23_by_county.to_csv('../data/analyzed/2023_tx_epa_by_county.csv',index=False)"
   ]
  },
  {
   "cell_type": "code",
   "execution_count": null,
   "id": "4eabe3da",
   "metadata": {},
   "outputs": [],
   "source": []
  }
 ],
 "metadata": {
  "kernelspec": {
   "display_name": "env",
   "language": "python",
   "name": "python3"
  },
  "language_info": {
   "codemirror_mode": {
    "name": "ipython",
    "version": 3
   },
   "file_extension": ".py",
   "mimetype": "text/x-python",
   "name": "python",
   "nbconvert_exporter": "python",
   "pygments_lexer": "ipython3",
   "version": "3.13.0"
  }
 },
 "nbformat": 4,
 "nbformat_minor": 5
}
