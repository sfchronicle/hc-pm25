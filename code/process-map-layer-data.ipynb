{
 "cells": [
  {
   "cell_type": "code",
   "execution_count": 1,
   "metadata": {},
   "outputs": [],
   "source": [
    "import pandas as pd"
   ]
  },
  {
   "cell_type": "markdown",
   "metadata": {},
   "source": [
    "We're trying to make a searchable map with one static layer and 3 toggle layers. \n",
    "\n",
    "Static layer = air quality monitors (both regulatory and PurpleAir), styled by 3-yr avg. PM2.5 reading\n",
    "\n",
    "Toggle layers:\n",
    "- life expectancy by tract\n",
    "- asthma by tract\n",
    "- POC or poverty by tract\n",
    "\n",
    "Steps:\n",
    "- pull 2020 and 2010 tracts shapefile\n",
    "- restrict to just Houston metro (so you'll need hou metro shape too)\n",
    "- pull asthma data from [CDC PLACES](https://data.cdc.gov/500-Cities-Places/PLACES-Local-Data-for-Better-Health-Census-Tract-D/cwsq-ngmh/about_data)\n",
    "- pull most recent POC/poverty from Census API\n",
    "- pull life expectancy [from CDC](https://data.cdc.gov/NCHS/U-S-Life-Expectancy-at-Birth-by-State-and-Census-T/5h56-n989/about_data) - note, this uses the 2010 tracts"
   ]
  },
  {
   "cell_type": "code",
   "execution_count": null,
   "metadata": {},
   "outputs": [],
   "source": []
  }
 ],
 "metadata": {
  "kernelspec": {
   "display_name": "env",
   "language": "python",
   "name": "python3"
  },
  "language_info": {
   "codemirror_mode": {
    "name": "ipython",
    "version": 3
   },
   "file_extension": ".py",
   "mimetype": "text/x-python",
   "name": "python",
   "nbconvert_exporter": "python",
   "pygments_lexer": "ipython3",
   "version": "3.9.6"
  }
 },
 "nbformat": 4,
 "nbformat_minor": 2
}
