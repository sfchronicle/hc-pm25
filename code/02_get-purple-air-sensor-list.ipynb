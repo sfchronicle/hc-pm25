{
 "cells": [
  {
   "cell_type": "code",
   "execution_count": null,
   "metadata": {},
   "outputs": [],
   "source": [
    "import requests\n",
    "import pandas as pd\n",
    "import geopandas as gpd\n",
    "import os\n",
    "import time\n",
    "import json\n",
    "\n",
    "# Here we store our API read key in a string variable that we can reference later.\n",
    "my_api_read_key = os.environ['PURPLEAIR_KEY']"
   ]
  },
  {
   "cell_type": "code",
   "execution_count": 2,
   "metadata": {},
   "outputs": [],
   "source": [
    "# This function will be used to gather PurpleAir sensors within a given bounding box.\n",
    "def getSensors(sensor_index='all',my_fields='',other_params={}):\n",
    "    \n",
    "    # my_url is assigned the URL we are going to send our request to.\n",
    "    if sensor_index != 'all':\n",
    "        my_url = 'https://api.purpleair.com/v1/sensors/' + str(sensor_index) + 'history'\n",
    "    else:\n",
    "        my_url = 'https://api.purpleair.com/v1/sensors'\n",
    "\n",
    "    # my_headers is assigned the context of our request we want to make. In this case\n",
    "    # we will pass through our API read key using the variable created above.\n",
    "    my_headers = {'X-API-Key':my_api_read_key}\n",
    "\n",
    "    # my_params is assigned a list of fields of data we are requesting. Excluding the\n",
    "    # fields parameter will collect all available fields.\n",
    "    # example input structure: 'temperature,pm2.5_atm'\n",
    "    field_param = {'fields':my_fields}\n",
    "    \n",
    "    #other_params should be a dict, see the following for options:\n",
    "    # https://api.purpleair.com/#api-sensors-get-sensor-history\n",
    "    my_params = {**field_param,**other_params}\n",
    "\n",
    "    # This line creates and sends the request and then assigns its response to the\n",
    "    # variable, r.\n",
    "    r = requests.get(my_url, headers=my_headers, params=my_params)\n",
    "\n",
    "    # We then return the response we received.\n",
    "    return r"
   ]
  },
  {
   "cell_type": "code",
   "execution_count": 3,
   "metadata": {},
   "outputs": [],
   "source": [
    "#need to get a bunch of sensor IDs based on bounding box\n",
    "#https://community.purpleair.com/t/finding-large-amounts-of-sensor-indexes-bounding-box-api-call/5688\n",
    "#The corners used MUST be the northwest and southeast points of the bounding box\n",
    "#this is an inexact houston metro bounding box\n",
    "houmetro_bbox = [[30.818865037486454, -96.7550267322917],[28.579254914574868, -93.89767804917469]]\n",
    "\n",
    "houmetro_params = {'nwlat':houmetro_bbox[0][0],\n",
    "                   'nwlng':houmetro_bbox[0][1],\n",
    "                   'selat':houmetro_bbox[1][0],\n",
    "                   'selng':houmetro_bbox[1][1],\n",
    "                   'max_age':2628000, #30 days\n",
    "                   }\n",
    "sensor_fields = 'name,location_type,latitude,longitude,date_created,altitude,position_rating'\n",
    "houmetro_bbox_sensors = getSensors(sensor_index='all',my_fields=sensor_fields,other_params=houmetro_params)"
   ]
  },
  {
   "cell_type": "code",
   "execution_count": null,
   "metadata": {},
   "outputs": [],
   "source": [
    "houmetro_bbox_sensors.json()"
   ]
  },
  {
   "cell_type": "code",
   "execution_count": null,
   "metadata": {},
   "outputs": [],
   "source": [
    "#turn this into a df so i can export and map and make sure it seems to include all Houston metro\n",
    "houmetro_bbox_sensors_df = pd.DataFrame(houmetro_bbox_sensors.json()['data'], columns=houmetro_bbox_sensors.json()['fields'])\n",
    "houmetro_bbox_sensors_df['date'] = pd.to_datetime(houmetro_bbox_sensors_df['date_created'],unit='s')\n",
    "houmetro_bbox_sensors_df.to_csv('../GIS/purpleair/houmetro_bbox_sensors.csv',index=False)\n",
    "houmetro_bbox_points = gpd.GeoDataFrame(houmetro_bbox_sensors_df, \n",
    "                                        geometry=gpd.points_from_xy(houmetro_bbox_sensors_df.longitude,\n",
    "                                                                    houmetro_bbox_sensors_df.latitude))\n",
    "\n",
    "#ok looks good but is actually too inclusive, so i'm going to filter to just Houston Metro\n",
    "houmetro_cntys = ['48157','48407','48473','48167','48201','48291','48071','48039','48015','48339']\n",
    "cnty_shp = gpd.read_file('https://www2.census.gov/geo/tiger/TIGER2024/COUNTY/tl_2024_us_county.zip')\n",
    "houmetro_shp = cnty_shp.loc[cnty_shp['GEOID'].isin(houmetro_cntys)]\n",
    "houmetro_shp.rename(columns={'NAME':'cnty_nm','GEOID':'cnty_fips'},inplace=True)\n",
    "\n",
    "#print(houmetro_shp.crs)\n",
    "houmetro_bbox_points.crs = {'init': 'epsg:4269'}\n",
    "\n",
    "houmetro_sensors = gpd.sjoin(houmetro_bbox_points, houmetro_shp[['cnty_fips','cnty_nm','geometry']], predicate = 'within')\n",
    "\n",
    "houmetro_sensors.drop(columns=['geometry','index_right'],inplace=True)\n",
    "\n",
    "#export all of them\n",
    "houmetro_sensors.to_csv('../GIS/purpleair/houmetro-pa-sensors.csv')\n",
    "\n",
    "#export ones that are at least 3 years old\n",
    "atleast_3yr = houmetro_sensors.loc[houmetro_sensors['date']<pd.to_datetime('2022-01-01')]\n",
    "atleast_3yr.to_csv('../GIS/purpleair/houmetro-pa-sensors-atleast_3yr.csv')\n",
    "\n",
    "#export ones that are at least 2 years old\n",
    "atleast_2yr = houmetro_sensors.loc[houmetro_sensors['date']<pd.to_datetime('2023-01-01')]\n",
    "atleast_2yr.to_csv('../GIS/purpleair/houmetro-pa-sensors-atleast_2yr.csv')\n",
    "\n",
    "#export ones that are at least 1 years old\n",
    "atleast_1yr = houmetro_sensors.loc[houmetro_sensors['date']<pd.to_datetime('2024-01-01')]\n",
    "atleast_1yr.to_csv('../GIS/purpleair/houmetro-pa-sensors-atleast_1yr.csv')"
   ]
  },
  {
   "cell_type": "code",
   "execution_count": null,
   "metadata": {},
   "outputs": [],
   "source": [
    "print(len(houmetro_bbox_sensors_df))\n",
    "print(len(houmetro_sensors))\n",
    "print(len(atleast_3yr))\n",
    "print(len(atleast_2yr))\n",
    "print(len(atleast_1yr))"
   ]
  },
  {
   "cell_type": "code",
   "execution_count": null,
   "metadata": {},
   "outputs": [],
   "source": [
    "houmetro_sensors.head()"
   ]
  }
 ],
 "metadata": {
  "kernelspec": {
   "display_name": "env",
   "language": "python",
   "name": "python3"
  },
  "language_info": {
   "codemirror_mode": {
    "name": "ipython",
    "version": 3
   },
   "file_extension": ".py",
   "mimetype": "text/x-python",
   "name": "python",
   "nbconvert_exporter": "python",
   "pygments_lexer": "ipython3",
   "version": "3.9.6"
  }
 },
 "nbformat": 4,
 "nbformat_minor": 2
}
